{
 "cells": [
  {
   "cell_type": "code",
   "execution_count": 1,
   "metadata": {},
   "outputs": [],
   "source": [
    "import numpy as np\n",
    "import pandas as pd\n",
    "from scipy.io import loadmat\n",
    "import scipy.optimize as opt\n",
    "import matplotlib.pyplot as plt\n",
    "%matplotlib inline"
   ]
  },
  {
   "cell_type": "code",
   "execution_count": 2,
   "metadata": {},
   "outputs": [
    {
     "name": "stdout",
     "output_type": "stream",
     "text": [
      "(1682, 943) (1682, 943)\n"
     ]
    }
   ],
   "source": [
    "df = loadmat(\"ex8_movies.mat\")\n",
    "Y = df['Y']\n",
    "R = df['R']\n",
    "print(Y.shape,R.shape)\n",
    "# R[m,n]=1/0 contains if nth u1ser has rated mth movie or not\n",
    "# Y[m,n] contains rating of mth movie by nth user\n",
    "# So there are 1682 movies and 943 users"
   ]
  },
  {
   "cell_type": "code",
   "execution_count": 3,
   "metadata": {},
   "outputs": [
    {
     "data": {
      "text/plain": [
       "(1682, 10)"
      ]
     },
     "execution_count": 3,
     "metadata": {},
     "output_type": "execute_result"
    }
   ],
   "source": [
    "# Load PreTrained Weights\n",
    "df = loadmat(\"ex8_movieParams.mat\")\n",
    "X = df['X']\n",
    "Theta = df['Theta']\n",
    "# X contains feature vector for each 1682 movies\n",
    "X.shape\n",
    "# Reduce the size of X to run faster"
   ]
  },
  {
   "cell_type": "code",
   "execution_count": 4,
   "metadata": {},
   "outputs": [],
   "source": [
    "num_users = 4\n",
    "num_movies = 5\n",
    "num_features = 3\n",
    "X = X[:num_movies,:num_features];\n",
    "Theta = Theta[:num_users,:num_features];\n",
    "# Note Y and R have same dim for selecting only those movies that have been rated\n",
    "Y = Y[:num_movies,:num_users];\n",
    "R = R[:num_movies, :num_users];"
   ]
  },
  {
   "cell_type": "code",
   "execution_count": 5,
   "metadata": {},
   "outputs": [],
   "source": [
    "def CostFunction(params, Y, R, num_users,num_movies,num_features,l):\n",
    "    '''\n",
    "        Collaborative Filtering\n",
    "    '''\n",
    "    X = np.reshape(params[:(num_movies*num_features)],(num_movies,num_features))\n",
    "    Theta = np.reshape(params[(num_movies*num_features):],(num_users,num_features))\n",
    "    J = 0\n",
    "    \n",
    "    X_grad = np.zeros(X.shape)\n",
    "    Theta_grad = np.zeros(Theta.shape)\n",
    "    \n",
    "    # X(feature vector for each movie) - num_movies by num_features\n",
    "    # Theta(user liking) - num_users by num_features\n",
    "    # Y(user rating of movies) - num_movies * num_users\n",
    "    # R - num_movies by num_users 1 if user has rated else zero\n",
    "    \n",
    "    hx = X @ Theta.T\n",
    "    # To Consider only movies that have only been rated(no need of multiplication with Theta here)\n",
    "    minus = hx[R==1] - Y[R==1]\n",
    "    tosum = minus ** 2\n",
    "    J = 0.5 * sum(tosum)\n",
    "    # Double sum of both X and Theta\n",
    "    # No bias terms are included here\n",
    "    J = J + ((l/2)* np.sum(X ** 2)) + ((l/2) * np.sum(Theta ** 2))\n",
    "    \n",
    "    # Calculate Grad\n",
    "    # Since we need to multiply it with Theta so preserve zero also\n",
    "    fhx = (hx - Y) * R\n",
    "    X_grad = fhx @ Theta\n",
    "    Theta_grad = fhx.T @ X\n",
    "    # Regularize\n",
    "    X_grad = X_grad + (l * X)\n",
    "    Theta_grad = Theta_grad + (l * Theta)\n",
    "    \n",
    "    grad = np.hstack((X_grad.flatten(),Theta_grad.flatten()))\n",
    "    return J,grad"
   ]
  },
  {
   "cell_type": "code",
   "execution_count": 6,
   "metadata": {},
   "outputs": [
    {
     "data": {
      "text/plain": [
       "22.22460372568567"
      ]
     },
     "execution_count": 6,
     "metadata": {},
     "output_type": "execute_result"
    }
   ],
   "source": [
    "params = np.hstack((X.flatten(),Theta.flatten()))\n",
    "# Check Cost at lambda = 0\n",
    "J,_=CostFunction(params, Y, R, num_users,num_movies,num_features,0)\n",
    "J"
   ]
  },
  {
   "cell_type": "code",
   "execution_count": 7,
   "metadata": {},
   "outputs": [
    {
     "data": {
      "text/plain": [
       "31.344056244274217"
      ]
     },
     "execution_count": 7,
     "metadata": {},
     "output_type": "execute_result"
    }
   ],
   "source": [
    "# Check Cost with Lambda = 1.5\n",
    "J,_=CostFunction(params, Y, R, num_users,num_movies,num_features,1.5)\n",
    "J"
   ]
  },
  {
   "cell_type": "code",
   "execution_count": 8,
   "metadata": {},
   "outputs": [],
   "source": [
    "df = pd.read_csv(\"movie_ids.txt\",sep=r'\\s{2,}',header=None,engine='python')\n",
    "movielist = df[0]\n",
    "my_ratings = np.zeros((1682,1))\n",
    "# Rate Some Movies\n",
    "my_ratings[0] = 5\n",
    "my_ratings[28] = 3\n",
    "my_ratings[40] = 5\n",
    "my_ratings[49] = 4\n",
    "my_ratings[63] = 4\n",
    "my_ratings[71] = 2\n",
    "my_ratings[68] = 2\n",
    "my_ratings[81] = 2\n",
    "my_ratings[95] = 4\n",
    "my_ratings[194] = 4\n",
    "my_ratings[203] = 4\n",
    "my_ratings[209] = 3\n",
    "my_ratings[256] = 2\n",
    "my_ratings[540] = 3\n",
    "my_ratings[889] = 4"
   ]
  },
  {
   "cell_type": "code",
   "execution_count": 9,
   "metadata": {},
   "outputs": [
    {
     "name": "stdout",
     "output_type": "stream",
     "text": [
      "Rated 1 Toy Story (1995) with [5.]\n",
      "Rated 29 Batman Forever (1995) with [3.]\n",
      "Rated 41 Billy Madison (1995) with [5.]\n",
      "Rated 50 Star Wars (1977) with [4.]\n",
      "Rated 64 Shawshank Redemption, The (1994) with [4.]\n",
      "Rated 69 Forrest Gump (1994) with [2.]\n",
      "Rated 72 Mask, The (1994) with [2.]\n",
      "Rated 82 Jurassic Park (1993) with [2.]\n",
      "Rated 96 Terminator 2: Judgment Day (1991) with [4.]\n",
      "Rated 195 Terminator, The (1984) with [4.]\n",
      "Rated 204 Back to the Future (1985) with [4.]\n",
      "Rated 210 Indiana Jones and the Last Crusade (1989) with [3.]\n",
      "Rated 257 Men in Black (1997) with [2.]\n",
      "Rated 541 Mortal Kombat (1995) with [3.]\n",
      "Rated 890 Mortal Kombat: Annihilation (1997) with [4.]\n"
     ]
    }
   ],
   "source": [
    "for i in range(len(my_ratings)):\n",
    "    if(my_ratings[i]>0):\n",
    "        print(f\"Rated {movielist[i]} with {my_ratings[i]}\")"
   ]
  },
  {
   "cell_type": "code",
   "execution_count": 10,
   "metadata": {},
   "outputs": [],
   "source": [
    "df = loadmat(\"ex8_movies.mat\")\n",
    "Y = df['Y']\n",
    "R = df['R']\n",
    "# Add our ratings\n",
    "Y = np.hstack((my_ratings,Y))\n",
    "R = np.hstack((my_ratings!=0,R))"
   ]
  },
  {
   "cell_type": "code",
   "execution_count": 11,
   "metadata": {},
   "outputs": [],
   "source": [
    "def NormalizeRatings(Y,R):\n",
    "    m,n = Y.shape\n",
    "    # Mean for each movie\n",
    "    Ymean = np.zeros((m,1))\n",
    "    Ynorm = np.zeros(Y.shape)\n",
    "    for i in range(m):\n",
    "        # Only rated ones\n",
    "        idx = R[i,:] == 1\n",
    "        Ymean[i] = np.mean(Y[i,idx])\n",
    "        Ynorm[i,idx] = Y[i,idx] - Ymean[i]\n",
    "    return Ynorm,Ymean"
   ]
  },
  {
   "cell_type": "code",
   "execution_count": 12,
   "metadata": {},
   "outputs": [],
   "source": [
    "# Normalized Ratings and Mean\n",
    "Ynorm,Ymean = NormalizeRatings(Y,R)\n",
    "num_users = Y.shape[1]\n",
    "num_movies = Y.shape[0]\n",
    "num_features = 10\n",
    "# Set Initial Parameters\n",
    "X = np.random.randn(num_movies,num_features)\n",
    "Theta = np.random.randn(num_users,num_features)"
   ]
  },
  {
   "cell_type": "code",
   "execution_count": 13,
   "metadata": {},
   "outputs": [
    {
     "data": {
      "text/plain": [
       "     fun: 38954.149977778194\n",
       "     jac: array([ 4.19150348e-08, -1.35804620e-06,  3.09242409e-10, ...,\n",
       "       -1.01921708e-06,  2.74753840e-07,  1.92310061e-06])\n",
       " message: 'Desired error not necessarily achieved due to precision loss.'\n",
       "    nfev: 638\n",
       "     nit: 311\n",
       "    njev: 624\n",
       "  status: 2\n",
       " success: False\n",
       "       x: array([ 0.18843696, -0.34303228, -0.28211742, ...,  0.23439223,\n",
       "       -0.07333137, -0.41374487])"
      ]
     },
     "execution_count": 13,
     "metadata": {},
     "output_type": "execute_result"
    }
   ],
   "source": [
    "# Train\n",
    "params = np.hstack((X.flatten(),Theta.flatten()))\n",
    "l = 10\n",
    "fmin = opt.minimize(fun=CostFunction,x0=params,args=(Ynorm, R, num_users,num_movies,num_features,l),method='CG',jac=True,options={'maxiter':1000})\n",
    "fmin"
   ]
  },
  {
   "cell_type": "code",
   "execution_count": 14,
   "metadata": {},
   "outputs": [
    {
     "data": {
      "text/plain": [
       "array([5.00361987, 5.00361987, 5.00361987, 5.00361987, 5.00361987,\n",
       "       5.00361987, 5.00361987, 5.00361987, 5.00361987, 5.00361987,\n",
       "       4.62861987, 4.50361987, 4.50361987, 4.50361987, 4.50361987,\n",
       "       4.49469129, 4.47006282, 4.46972156, 4.46040999, 4.45138106,\n",
       "       4.44728184, 4.39117967, 4.38938766, 4.36149658, 4.34761987])"
      ]
     },
     "execution_count": 14,
     "metadata": {},
     "output_type": "execute_result"
    }
   ],
   "source": [
    "# Reshape\n",
    "X = np.reshape(fmin.x[:(num_movies*num_features)],(num_movies,num_features))\n",
    "Theta = np.reshape(fmin.x[(num_movies*num_features):],(num_users,num_features))\n",
    "# Predictions\n",
    "p = X @ Theta.T\n",
    "# Lets check My Predicted Movie Ratings (Its at index 0)\n",
    "my_predictions = p[:,0] + Ymean\n",
    "# pred_sorted contains Top 20 Movie Predictions\n",
    "pred = my_predictions[:,0]\n",
    "np.sort(pred)[::-1][:25]"
   ]
  },
  {
   "cell_type": "code",
   "execution_count": 16,
   "metadata": {},
   "outputs": [
    {
     "name": "stdout",
     "output_type": "stream",
     "text": [
      "Predicted Rating of 5 for movie Star Kid (1997)\n",
      "Predicted Rating of 5 for movie Saint of Fort Washington, The (1993)\n",
      "Predicted Rating of 5 for movie Entertaining Angels: The Dorothy Day Story (1996)\n",
      "Predicted Rating of 5 for movie Great Day in Harlem, A (1994)\n",
      "Predicted Rating of 5 for movie They Made Me a Criminal (1939)\n",
      "Predicted Rating of 5 for movie Someone Else's America (1995)\n",
      "Predicted Rating of 5 for movie Marlene Dietrich: Shadow and Light (1996)\n",
      "Predicted Rating of 5 for movie Prefontaine (1997)\n",
      "Predicted Rating of 5 for movie Santa with Muscles (1996)\n",
      "Predicted Rating of 5 for movie Aiqing wansui (1994)\n",
      "Predicted Rating of 4 for movie Pather Panchali (1955)\n",
      "Predicted Rating of 4 for movie Some Mother's Son (1996)\n",
      "Predicted Rating of 4 for movie Maya Lin: A Strong Clear Vision (1994)\n",
      "Predicted Rating of 4 for movie Anna (1996)\n",
      "Predicted Rating of 4 for movie Everest (1998)\n",
      "Predicted Rating of 4 for movie Close Shave, A (1995)\n",
      "Predicted Rating of 4 for movie Schindler's List (1993)\n",
      "Predicted Rating of 4 for movie Wrong Trousers, The (1993)\n",
      "Predicted Rating of 4 for movie Casablanca (1942)\n",
      "Predicted Rating of 4 for movie Wallace & Gromit: The Best of Aardman Animation (1996)\n",
      "Predicted Rating of 4 for movie Shawshank Redemption, The (1994)\n",
      "Predicted Rating of 4 for movie Rear Window (1954)\n",
      "Predicted Rating of 4 for movie Usual Suspects, The (1995)\n",
      "Predicted Rating of 4 for movie Star Wars (1977)\n",
      "Predicted Rating of 4 for movie 12 Angry Men (1957)\n"
     ]
    }
   ],
   "source": [
    "# Argsort to get movie label\n",
    "idx = np.argsort(pred,axis=0)[::-1]\n",
    "\n",
    "# Top Recommended Movies Recommended to Me\n",
    "for i in range(25):\n",
    "    movieid = idx[i]\n",
    "    moviename = ' '.join(movielist[movieid].split()[1:])\n",
    "    print(f'Predicted Rating of {int(pred[movieid])} for movie {moviename}')"
   ]
  }
 ],
 "metadata": {
  "kernelspec": {
   "display_name": "Python 3",
   "language": "python",
   "name": "python3"
  },
  "language_info": {
   "codemirror_mode": {
    "name": "ipython",
    "version": 3
   },
   "file_extension": ".py",
   "mimetype": "text/x-python",
   "name": "python",
   "nbconvert_exporter": "python",
   "pygments_lexer": "ipython3",
   "version": "3.7.3"
  }
 },
 "nbformat": 4,
 "nbformat_minor": 2
}

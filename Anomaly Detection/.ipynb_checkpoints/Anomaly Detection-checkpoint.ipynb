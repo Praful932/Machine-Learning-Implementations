{
 "cells": [
  {
   "cell_type": "markdown",
   "metadata": {},
   "source": [
    "Method:\n",
    "1.Calculate probability Density from Test Data using mean and variance\n",
    "2.Find Best Epsilon Value Using Cross Validation Data"
   ]
  },
  {
   "cell_type": "code",
   "execution_count": 1,
   "metadata": {},
   "outputs": [],
   "source": [
    "import numpy as np\n",
    "import pandas as pd\n",
    "import matplotlib.pyplot as plt\n",
    "from scipy.io import loadmat\n",
    "from scipy import stats\n",
    "%matplotlib inline"
   ]
  },
  {
   "cell_type": "code",
   "execution_count": 2,
   "metadata": {},
   "outputs": [
    {
     "data": {
      "text/plain": [
       "Text(0, 0.5, 'Throughput')"
      ]
     },
     "execution_count": 2,
     "metadata": {},
     "output_type": "execute_result"
    },
    {
     "data": {
      "image/png": "[encoded data removed]",
      "text/plain": [
       "<Figure size 432x288 with 1 Axes>"
      ]
     },
     "metadata": {
      "needs_background": "light"
     },
     "output_type": "display_data"
    }
   ],
   "source": [
    "df = loadmat(\"ex8data1.mat\")\n",
    "X = df['X']\n",
    "plt.scatter(X[:,0],X[:,1])\n",
    "plt.xlabel(\"Latency\")\n",
    "plt.ylabel(\"Throughput\")"
   ]
  },
  {
   "cell_type": "code",
   "execution_count": 3,
   "metadata": {},
   "outputs": [],
   "source": [
    "def EstimateGaussian(X):\n",
    "    mu = np.mean(X,0)\n",
    "    sigma2 = np.var(X,0)\n",
    "    return mu,sigma2"
   ]
  },
  {
   "cell_type": "code",
   "execution_count": 4,
   "metadata": {},
   "outputs": [
    {
     "data": {
      "text/plain": [
       "(array([14.11222578, 14.99771051]), array([1.83263141, 1.70974533]))"
      ]
     },
     "execution_count": 4,
     "metadata": {},
     "output_type": "execute_result"
    }
   ],
   "source": [
    "# Calculate Mean and Variance using Training Data\n",
    "mu, sigma2 = EstimateGaussian(X)\n",
    "mu,sigma2"
   ]
  },
  {
   "cell_type": "code",
   "execution_count": 28,
   "metadata": {},
   "outputs": [],
   "source": [
    "# Calculate Probability Density\n",
    "p = stats.multivariate_normal.pdf(X,mean=mu,cov=sigma2)\n",
    "Xval = df['Xval']\n",
    "yval = df['yval'].flatten()\n",
    "# Calculate Probability Density of CV data\n",
    "pval = stats.multivariate_normal.pdf(Xval,mu,sigma2)"
   ]
  },
  {
   "cell_type": "code",
   "execution_count": 50,
   "metadata": {},
   "outputs": [],
   "source": [
    "# If normal(0) probability high\n",
    "# Calculate Best epsilon\n",
    "# Use Cross Validation Data to Calculate Threshold\n",
    "def SelectThreshold(yval,pval):\n",
    "    BestEpsilon = 0\n",
    "    F1 = 0\n",
    "    F1Score = 0\n",
    "    stepsize = (max(pval) - min(pval))/1000\n",
    "    for i in np.arange(min(pval),max(pval),stepsize):\n",
    "        predictions = pval < i\n",
    "        tp = np.sum(np.logical_and(predictions==1,yval==1))\n",
    "        fp = np.sum(np.logical_and(predictions==1,yval==0))\n",
    "        fn = np.sum(np.logical_and(predictions==0,yval==1))\n",
    "        prec = tp/(tp+fp)\n",
    "        recall = tp/(tp+fn)\n",
    "        F1 = (2*prec*recall)/(prec+recall)\n",
    "        if(F1>F1Score):\n",
    "            F1Score = F1\n",
    "            BestEpsilon = i\n",
    "    return F1Score,BestEpsilon"
   ]
  },
  {
   "cell_type": "code",
   "execution_count": 52,
   "metadata": {},
   "outputs": [
    {
     "name": "stdout",
     "output_type": "stream",
     "text": [
      "0.8750000000000001 8.990852779269493e-05\n"
     ]
    },
    {
     "name": "stderr",
     "output_type": "stream",
     "text": [
      "C:\\Users\\Praful\\Anaconda3\\lib\\site-packages\\ipykernel_launcher.py:13: RuntimeWarning: invalid value encountered in long_scalars\n",
      "  del sys.path[0]\n"
     ]
    }
   ],
   "source": [
    "F1Score,BestEpsilon = SelectThreshold(yval,pval)\n",
    "print(F1Score,BestEpsilon)"
   ]
  },
  {
   "cell_type": "code",
   "execution_count": 72,
   "metadata": {},
   "outputs": [
    {
     "data": {
      "text/plain": [
       "301"
      ]
     },
     "execution_count": 72,
     "metadata": {},
     "output_type": "execute_result"
    },
    {
     "data": {
      "image/png": "[encoded data removed]",
      "text/plain": [
       "<Figure size 648x360 with 1 Axes>"
      ]
     },
     "metadata": {
      "needs_background": "light"
     },
     "output_type": "display_data"
    }
   ],
   "source": [
    "fig,ax = plt.subplots(figsize=(9,5))\n",
    "# Normal Examples\n",
    "normal = p > BestEpsilon\n",
    "# Abnormal Examples\n",
    "abnormal = p <= BestEpsilon\n",
    "ax.scatter(X[normal,0]"
   ]
  }
 ],
 "metadata": {
  "kernelspec": {
   "display_name": "Python 3",
   "language": "python",
   "name": "python3"
  },
  "language_info": {
   "codemirror_mode": {
    "name": "ipython",
    "version": 3
   },
   "file_extension": ".py",
   "mimetype": "text/x-python",
   "name": "python",
   "nbconvert_exporter": "python",
   "pygments_lexer": "ipython3",
   "version": "3.7.3"
  }
 },
 "nbformat": 4,
 "nbformat_minor": 2
}

{
 "cells": [
  {
   "cell_type": "markdown",
   "metadata": {},
   "source": [
    "## Regularised Logisitic Regression "
   ]
  },
  {
   "cell_type": "code",
   "execution_count": 67,
   "metadata": {},
   "outputs": [],
   "source": [
    "import pandas as pd\n",
    "import numpy as np\n",
    "import matplotlib.pyplot as plt\n",
    "import scipy.optimize as opt"
   ]
  },
  {
   "cell_type": "markdown",
   "metadata": {},
   "source": [
    "<h3>Map Features</h3>"
   ]
  },
  {
   "cell_type": "code",
   "execution_count": 68,
   "metadata": {},
   "outputs": [],
   "source": [
    "def mapfeature(X1,X2):\n",
    "    degree=6\n",
    "    out=np.ones((m,1))\n",
    "    for i in range(1,degree+1):\n",
    "        for j in range(i+1):\n",
    "            out=np.hstack((out,(np.power(X1,i-j) * np.power(X2,j))[:,np.newaxis]))\n",
    "    return out"
   ]
  },
  {
   "cell_type": "markdown",
   "metadata": {},
   "source": [
    "<h3>Sigmoid Function</h3>"
   ]
  },
  {
   "cell_type": "code",
   "execution_count": 69,
   "metadata": {},
   "outputs": [],
   "source": [
    "def sigmoid(x):\n",
    "    return 1/(1+np.exp(-x))"
   ]
  },
  {
   "cell_type": "markdown",
   "metadata": {},
   "source": [
    "<h3>Cost Function</h3>"
   ]
  },
  {
   "cell_type": "code",
   "execution_count": 70,
   "metadata": {},
   "outputs": [],
   "source": [
    "def costfunction(theta,X,y,l):\n",
    "    ghx=sigmoid(X @ theta)\n",
    "    tosum=(y * np.log(ghx)) + ((1 - y) * np.log(1-ghx))\n",
    "    J=(-1/m)* np.sum(tosum)\n",
    "    reg=(l/(2*m))* (theta[:1].T @ theta[:1])\n",
    "    J=J + reg\n",
    "    return J"
   ]
  },
  {
   "cell_type": "markdown",
   "metadata": {},
   "source": [
    "### Gradient"
   ]
  },
  {
   "cell_type": "code",
   "execution_count": 71,
   "metadata": {},
   "outputs": [],
   "source": [
    "def gradient(theta,X,y,l):\n",
    "    grad=np.zeros((n,1))\n",
    "    grad=(X.T @ (sigmoid(X @ theta)-y))/m\n",
    "    reg=(l/m) * theta\n",
    "    # since we dont consider theta[0]\n",
    "    reg[0]=0\n",
    "    grad=grad +reg\n",
    "    return grad"
   ]
  },
  {
   "cell_type": "code",
   "execution_count": 72,
   "metadata": {},
   "outputs": [],
   "source": [
    "data=pd.read_csv(\"ex2data2.txt\",header=None)"
   ]
  },
  {
   "cell_type": "code",
   "execution_count": 73,
   "metadata": {},
   "outputs": [
    {
     "data": {
      "text/html": [
       "<div>\n",
       "<style scoped>\n",
       "    .dataframe tbody tr th:only-of-type {\n",
       "        vertical-align: middle;\n",
       "    }\n",
       "\n",
       "    .dataframe tbody tr th {\n",
       "        vertical-align: top;\n",
       "    }\n",
       "\n",
       "    .dataframe thead th {\n",
       "        text-align: right;\n",
       "    }\n",
       "</style>\n",
       "<table border=\"1\" class=\"dataframe\">\n",
       "  <thead>\n",
       "    <tr style=\"text-align: right;\">\n",
       "      <th></th>\n",
       "      <th>0</th>\n",
       "      <th>1</th>\n",
       "    </tr>\n",
       "  </thead>\n",
       "  <tbody>\n",
       "    <tr>\n",
       "      <th>0</th>\n",
       "      <td>0.051267</td>\n",
       "      <td>0.69956</td>\n",
       "    </tr>\n",
       "    <tr>\n",
       "      <th>1</th>\n",
       "      <td>-0.092742</td>\n",
       "      <td>0.68494</td>\n",
       "    </tr>\n",
       "    <tr>\n",
       "      <th>2</th>\n",
       "      <td>-0.213710</td>\n",
       "      <td>0.69225</td>\n",
       "    </tr>\n",
       "    <tr>\n",
       "      <th>3</th>\n",
       "      <td>-0.375000</td>\n",
       "      <td>0.50219</td>\n",
       "    </tr>\n",
       "    <tr>\n",
       "      <th>4</th>\n",
       "      <td>-0.513250</td>\n",
       "      <td>0.46564</td>\n",
       "    </tr>\n",
       "  </tbody>\n",
       "</table>\n",
       "</div>"
      ],
      "text/plain": [
       "          0        1\n",
       "0  0.051267  0.69956\n",
       "1 -0.092742  0.68494\n",
       "2 -0.213710  0.69225\n",
       "3 -0.375000  0.50219\n",
       "4 -0.513250  0.46564"
      ]
     },
     "execution_count": 73,
     "metadata": {},
     "output_type": "execute_result"
    }
   ],
   "source": [
    "X=data.iloc[:,0:2]\n",
    "X.head()"
   ]
  },
  {
   "cell_type": "code",
   "execution_count": 74,
   "metadata": {},
   "outputs": [
    {
     "data": {
      "text/plain": [
       "0    1\n",
       "1    1\n",
       "2    1\n",
       "3    1\n",
       "4    1\n",
       "Name: 2, dtype: int64"
      ]
     },
     "execution_count": 74,
     "metadata": {},
     "output_type": "execute_result"
    }
   ],
   "source": [
    "y=data.iloc[:,-1]\n",
    "y.head()"
   ]
  },
  {
   "cell_type": "code",
   "execution_count": 75,
   "metadata": {
    "scrolled": true
   },
   "outputs": [
    {
     "data": {
      "text/plain": [
       "118"
      ]
     },
     "execution_count": 75,
     "metadata": {},
     "output_type": "execute_result"
    }
   ],
   "source": [
    "y=y[:,np.newaxis]\n",
    "m=len(y)\n",
    "mask=y==1\n",
    "m"
   ]
  },
  {
   "cell_type": "code",
   "execution_count": 76,
   "metadata": {},
   "outputs": [
    {
     "data": {
      "text/plain": [
       "<matplotlib.legend.Legend at 0xef80fd0>"
      ]
     },
     "execution_count": 76,
     "metadata": {},
     "output_type": "execute_result"
    },
    {
     "data": {
      "image/png": "[encoded data removed]",
      "text/plain": [
       "<Figure size 432x288 with 1 Axes>"
      ]
     },
     "metadata": {
      "needs_background": "light"
     },
     "output_type": "display_data"
    }
   ],
   "source": [
    "%matplotlib inline\n",
    "accepted=plt.scatter(X[mask][0],X[mask][1])\n",
    "notaccepted=plt.scatter(X[~mask][0],X[~mask][1])\n",
    "plt.xlabel(\"Test1\")\n",
    "plt.ylabel(\"Test2\")\n",
    "plt.legend((accepted,notaccepted),('Accepted','Not Accepted'))"
   ]
  },
  {
   "cell_type": "code",
   "execution_count": 77,
   "metadata": {
    "scrolled": true
   },
   "outputs": [
    {
     "name": "stdout",
     "output_type": "stream",
     "text": [
      "(118, 28)\n"
     ]
    }
   ],
   "source": [
    "# mapping\n",
    "X=mapfeature(X.iloc[:,0],X.iloc[:,1])\n",
    "(m,n)=X.shape\n",
    "print((m,n))"
   ]
  },
  {
   "cell_type": "code",
   "execution_count": 78,
   "metadata": {},
   "outputs": [
    {
     "name": "stdout",
     "output_type": "stream",
     "text": [
      "[[0.69314718]]\n"
     ]
    }
   ],
   "source": [
    "theta=np.zeros((n,1))\n",
    "# l=0 overfitting\n",
    "l=1\n",
    "J=costfunction(theta,X,y,l)\n",
    "print(J)"
   ]
  },
  {
   "cell_type": "code",
   "execution_count": 79,
   "metadata": {},
   "outputs": [
    {
     "name": "stdout",
     "output_type": "stream",
     "text": [
      "83.05084745762711\n"
     ]
    }
   ],
   "source": [
    "temp=opt.fmin_tnc(func=costfunction,x0=theta.flatten(),fprime=gradient,args=(X,y.flatten(),l))\n",
    "thetaopt=temp[0]\n",
    "pred = [sigmoid(np.dot(X, thetaopt)) >= 0.5]\n",
    "print(np.mean(pred == y.flatten()) * 100)\n"
   ]
  },
  {
   "cell_type": "code",
   "execution_count": 80,
   "metadata": {},
   "outputs": [
    {
     "data": {
      "text/plain": [
       "array([ 1.27422052,  0.62478653,  1.18590382, -2.02173848, -0.91708238,\n",
       "       -1.41319218,  0.12444389, -0.36770505, -0.36458177, -0.18067775,\n",
       "       -1.46506521, -0.06288686, -0.61999795, -0.27174425, -1.20129301,\n",
       "       -0.23663779, -0.20901429, -0.05490404, -0.27804401, -0.29276911,\n",
       "       -0.4679072 , -1.04396487,  0.02082853, -0.29638539,  0.00961564,\n",
       "       -0.32917181, -0.13804205, -0.935508  ])"
      ]
     },
     "execution_count": 80,
     "metadata": {},
     "output_type": "execute_result"
    }
   ],
   "source": [
    "temp[0]\n"
   ]
  },
  {
   "cell_type": "markdown",
   "metadata": {},
   "source": [
    "### Mapforplot"
   ]
  },
  {
   "cell_type": "code",
   "execution_count": 81,
   "metadata": {},
   "outputs": [],
   "source": [
    "def mapforplot(X1,X2):\n",
    "    degree=6\n",
    "    # since it will be 1 by features dim\n",
    "    out=np.ones((1))\n",
    "    for i in range(1,degree+1):\n",
    "        for j in range(i+1):\n",
    "            out=np.hstack((out,(np.power(X1,i-j) * np.power(X2,j))))\n",
    "    return out"
   ]
  },
  {
   "cell_type": "markdown",
   "metadata": {},
   "source": [
    "### Decision Boundary"
   ]
  },
  {
   "cell_type": "code",
   "execution_count": 82,
   "metadata": {},
   "outputs": [
    {
     "data": {
      "text/plain": [
       "<matplotlib.legend.Legend at 0xf1a5370>"
      ]
     },
     "execution_count": 82,
     "metadata": {},
     "output_type": "execute_result"
    },
    {
     "data": {
      "image/png": "[encoded data removed]",
      "text/plain": [
       "<Figure size 432x288 with 1 Axes>"
      ]
     },
     "metadata": {
      "needs_background": "light"
     },
     "output_type": "display_data"
    }
   ],
   "source": [
    "# The purpose of meshgrid is to create a rectangular grid out of an array of x values and an array of y values\n",
    "# parameters in the range of X1 and X2\n",
    "u=np.linspace(min(X[:,1]),max(X[:,1]),50)\n",
    "v=np.linspace(min(X[:,2]),max(X[:,2]),50)\n",
    "# since 50 features\n",
    "# to store predicted\n",
    "z=np.zeros((50,50))\n",
    "for i in range(50):\n",
    "    for j in range(50):\n",
    "        # as features are more need to map\n",
    "        # return 1 * 28 feature each time for each u and v X * theta\n",
    "        z[i,j]=np.dot(mapforplot(u[i],v[j]),thetaopt)\n",
    "        \n",
    "\n",
    "m=len(y)\n",
    "mask=y==1\n",
    "X=data.iloc[:,0:2]\n",
    "accepted=plt.scatter(X[mask][0],X[mask][1])\n",
    "notaccepted=plt.scatter(X[~mask][0],X[~mask][1])\n",
    "# u v are range of X1 and X2\n",
    "plt.contour(u,v,z,0)\n",
    "plt.xlabel(\"Test1\")\n",
    "plt.ylabel(\"Test2\")\n",
    "plt.legend((accepted,notaccepted),('Accepted','Not Accepted'))\n"
   ]
  }
 ],
 "metadata": {
  "kernelspec": {
   "display_name": "Python 3",
   "language": "python",
   "name": "python3"
  },
  "language_info": {
   "codemirror_mode": {
    "name": "ipython",
    "version": 3
   },
   "file_extension": ".py",
   "mimetype": "text/x-python",
   "name": "python",
   "nbconvert_exporter": "python",
   "pygments_lexer": "ipython3",
   "version": "3.7.3"
  }
 },
 "nbformat": 4,
 "nbformat_minor": 2
}

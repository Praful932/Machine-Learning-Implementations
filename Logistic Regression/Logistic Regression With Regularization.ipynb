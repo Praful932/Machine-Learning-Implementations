{
 "cells": [
  {
   "cell_type": "code",
   "execution_count": 1,
   "metadata": {},
   "outputs": [],
   "source": [
    "import numpy as np\n",
    "import matplotlib.pyplot as plt\n",
    "import pandas as pd\n",
    "%matplotlib inline"
   ]
  },
  {
   "cell_type": "code",
   "execution_count": 2,
   "metadata": {},
   "outputs": [],
   "source": [
    "df = pd.read_csv(\"ex2data2.txt\", header = None)\n",
    "X = df.iloc[:,:2]\n",
    "y = df.iloc[:,2][:,np.newaxis]\n",
    "m = X.shape[0]\n",
    "X = np.column_stack((np.ones((m,1)), X))\n",
    "n = X.shape[1]"
   ]
  },
  {
   "cell_type": "code",
   "execution_count": 3,
   "metadata": {
    "scrolled": true
   },
   "outputs": [
    {
     "data": {
      "text/plain": [
       "<matplotlib.legend.Legend at 0x234cef08be0>"
      ]
     },
     "execution_count": 3,
     "metadata": {},
     "output_type": "execute_result"
    },
    {
     "data": {
      "image/png": "[encoded data removed]",
      "text/plain": [
       "<Figure size 432x288 with 1 Axes>"
      ]
     },
     "metadata": {
      "needs_background": "light"
     },
     "output_type": "display_data"
    }
   ],
   "source": [
    "alpha = 0.001\n",
    "iterations = 40000\n",
    "admitted = df.iloc[:,2] == 1\n",
    "notadmitted = df.iloc[:,2] == 0\n",
    "plt.scatter(X[admitted,1],X[admitted,2], label = 'Passed Test')\n",
    "plt.scatter(X[notadmitted,1],X[notadmitted,2], label = 'Not Passed')\n",
    "plt.title(\"Microchips Quality Assurance Test\")\n",
    "plt.legend()"
   ]
  },
  {
   "cell_type": "code",
   "execution_count": 4,
   "metadata": {},
   "outputs": [],
   "source": [
    "def MapFeature(X1,X2):\n",
    "    degree=6\n",
    "    out=np.ones((m,1))\n",
    "    for i in range(1,degree+1):\n",
    "        for j in range(i+1):\n",
    "            out=np.hstack((out,(np.power(X1,i-j) * np.power(X2,j))[:,np.newaxis]))\n",
    "    return out"
   ]
  },
  {
   "cell_type": "code",
   "execution_count": 5,
   "metadata": {},
   "outputs": [],
   "source": [
    "# Create New Features\n",
    "X_mapped = MapFeature(X[:,1],X[:,2])\n",
    "initial_theta = np.zeros((X_mapped.shape[1],1))"
   ]
  },
  {
   "cell_type": "code",
   "execution_count": 6,
   "metadata": {},
   "outputs": [],
   "source": [
    "def sigmoid(X):\n",
    "    return 1/(1 + np.exp(-X))"
   ]
  },
  {
   "cell_type": "code",
   "execution_count": 7,
   "metadata": {},
   "outputs": [],
   "source": [
    "def CostFunctionRegularization(X, y, theta, l):\n",
    "    m = X.shape[0]\n",
    "    n = X.shape[1]\n",
    "    grad = np.zeros((n,1))\n",
    "    ghx = sigmoid(X @ theta)\n",
    "    tosum = (y * np.log(ghx)) + ((1 - y) * np.log(1 - ghx))\n",
    "    J = (-sum(tosum))/m\n",
    "    # Since we dont Regularize Theta0\n",
    "    J = J + (l/(2*m)) * sum(theta**2)\n",
    "#     grad = (sum((ghx - y)* X)/m)[:,np.newaxis] + ((l/m) * theta)\n",
    "    g0= 1/m * (X.T @ (ghx - y))[0]\n",
    "    g1 = 1/m * (X.T @ (ghx - y))[1:] + (l/m)* theta[1:]\n",
    "    grad= np.vstack((g0[:,np.newaxis],g1))\n",
    "    return J,grad"
   ]
  },
  {
   "cell_type": "code",
   "execution_count": 8,
   "metadata": {},
   "outputs": [
    {
     "name": "stdout",
     "output_type": "stream",
     "text": [
      "[0.69314718] [[8.47457627e-03]\n",
      " [1.87880932e-02]\n",
      " [7.77711864e-05]\n",
      " [5.03446395e-02]\n",
      " [1.15013308e-02]]\n"
     ]
    }
   ],
   "source": [
    "l =1\n",
    "J,grad = CostFunctionRegularization(X_mapped, y, initial_theta, l)\n",
    "print(J,grad[:5])"
   ]
  },
  {
   "cell_type": "code",
   "execution_count": 9,
   "metadata": {},
   "outputs": [
    {
     "name": "stdout",
     "output_type": "stream",
     "text": [
      "[3.20688221] [[0.34604507]\n",
      " [0.16135192]\n",
      " [0.19479576]\n",
      " [0.22686278]\n",
      " [0.09218568]]\n"
     ]
    }
   ],
   "source": [
    "test_theta = np.ones((X_mapped.shape[1],1))\n",
    "J,grad = CostFunctionRegularization(X_mapped, y, test_theta, 10)\n",
    "print(J,grad[:5])"
   ]
  },
  {
   "cell_type": "code",
   "execution_count": 10,
   "metadata": {},
   "outputs": [],
   "source": [
    "def GradientDescent(X, y, theta,alpha,num_iters,l):\n",
    "    m = X.shape[0]\n",
    "    n = X.shape[1]\n",
    "    J_history = []\n",
    "    for i in range(num_iters):\n",
    "        cost, grad = CostFunctionRegularization(X,y,theta,l)\n",
    "        theta = theta - (alpha*grad)\n",
    "        J_history.append(cost)\n",
    "    return theta,J_history"
   ]
  },
  {
   "cell_type": "code",
   "execution_count": 11,
   "metadata": {},
   "outputs": [],
   "source": [
    "initial_theta = np.zeros((X_mapped.shape[1],1))\n",
    "theta,J_history = GradientDescent(X_mapped,y,initial_theta,1,800,0.2)"
   ]
  },
  {
   "cell_type": "code",
   "execution_count": 12,
   "metadata": {},
   "outputs": [
    {
     "data": {
      "text/plain": [
       "Text(0.5, 1.0, 'Cost function using Gradient Descent')"
      ]
     },
     "execution_count": 12,
     "metadata": {},
     "output_type": "execute_result"
    },
    {
     "data": {
      "image/png": "[encoded data removed]",
      "text/plain": [
       "<Figure size 432x288 with 1 Axes>"
      ]
     },
     "metadata": {
      "needs_background": "light"
     },
     "output_type": "display_data"
    }
   ],
   "source": [
    "plt.plot(J_history)\n",
    "plt.xlabel(\"Iteration\")\n",
    "plt.ylabel(\"$J(\\Theta)$\")\n",
    "plt.title(\"Cost function using Gradient Descent\")"
   ]
  },
  {
   "cell_type": "code",
   "execution_count": 19,
   "metadata": {},
   "outputs": [
    {
     "data": {
      "text/plain": [
       "array([98])"
      ]
     },
     "execution_count": 19,
     "metadata": {},
     "output_type": "execute_result"
    }
   ],
   "source": [
    "# Accuracy\n",
    "sum((sigmoid(X_mapped@theta)>=0.5)==y)"
   ]
  },
  {
   "cell_type": "code",
   "execution_count": 14,
   "metadata": {},
   "outputs": [],
   "source": [
    "def mapforplot(X1,X2):\n",
    "    degree=6\n",
    "    # since it will be 1 by features dim\n",
    "    out=np.ones((1))\n",
    "    for i in range(1,degree+1):\n",
    "        for j in range(i+1):\n",
    "            out=np.hstack((out,(np.power(X1,i-j) * np.power(X2,j))))\n",
    "    return out"
   ]
  },
  {
   "cell_type": "code",
   "execution_count": 15,
   "metadata": {},
   "outputs": [
    {
     "data": {
      "text/plain": [
       "<matplotlib.legend.Legend at 0x234cf0fdb70>"
      ]
     },
     "execution_count": 15,
     "metadata": {},
     "output_type": "execute_result"
    },
    {
     "data": {
      "image/png": "[encoded data removed]",
      "text/plain": [
       "<Figure size 432x288 with 1 Axes>"
      ]
     },
     "metadata": {
      "needs_background": "light"
     },
     "output_type": "display_data"
    }
   ],
   "source": [
    "# The purpose of meshgrid is to create a rectangular grid out of an array of x values and an array of y values\n",
    "# parameters in the range of X1 and X2\n",
    "u=np.linspace(min(X[:,1]),max(X[:,1]),50)\n",
    "v=np.linspace(min(X[:,2]),max(X[:,2]),50)\n",
    "# since 50 features\n",
    "# to store predicted\n",
    "z=np.zeros((50,50))\n",
    "for i in range(50):\n",
    "    for j in range(50):\n",
    "        # as features are more need to map\n",
    "        # return 1 * 28 feature each time for each u and v X * theta\n",
    "        z[i,j]=np.dot(mapforplot(u[i],v[j]),theta)\n",
    "        \n",
    "\n",
    "m=len(y)\n",
    "mask=y==1\n",
    "X=df.iloc[:,0:2]\n",
    "accepted=plt.scatter(X[mask][0],X[mask][1])\n",
    "notaccepted=plt.scatter(X[~mask][0],X[~mask][1])\n",
    "# u v are range of X1 and X2\n",
    "plt.contour(u,v,z,0)\n",
    "plt.xlabel(\"Test1\")\n",
    "plt.ylabel(\"Test2\")\n",
    "plt.legend((accepted,notaccepted),('Accepted','Not Accepted'))"
   ]
  },
  {
   "cell_type": "code",
   "execution_count": null,
   "metadata": {},
   "outputs": [],
   "source": []
  }
 ],
 "metadata": {
  "kernelspec": {
   "display_name": "Python 3",
   "language": "python",
   "name": "python3"
  },
  "language_info": {
   "codemirror_mode": {
    "name": "ipython",
    "version": 3
   },
   "file_extension": ".py",
   "mimetype": "text/x-python",
   "name": "python",
   "nbconvert_exporter": "python",
   "pygments_lexer": "ipython3",
   "version": "3.7.3"
  }
 },
 "nbformat": 4,
 "nbformat_minor": 2
}

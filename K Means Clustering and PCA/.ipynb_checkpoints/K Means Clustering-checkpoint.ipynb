{
 "cells": [
  {
   "cell_type": "code",
   "execution_count": 1,
   "metadata": {},
   "outputs": [],
   "source": [
    "import matplotlib.pyplot as plt\n",
    "import pandas as pd\n",
    "import numpy as np\n",
    "from scipy.io import loadmat\n",
    "%matplotlib inline"
   ]
  },
  {
   "cell_type": "code",
   "execution_count": 2,
   "metadata": {},
   "outputs": [],
   "source": [
    "# Find Closest Centroids\n",
    "df = loadmat('ex7data2.mat')\n",
    "X = df['X']\n",
    "K = 3 \n",
    "initial_centroids = np.array([[3,3],[6,2],[8,5]])\n",
    "# print(X.shape,initial_centroids.shape)\n",
    "# d = X - initial_centroids[0,:]\n",
    "# d ** 2"
   ]
  },
  {
   "cell_type": "code",
   "execution_count": 3,
   "metadata": {},
   "outputs": [],
   "source": [
    "def findClosestCentroids(X, centroids):\n",
    "    # No of Centroids\n",
    "    K = centroids.shape[0]\n",
    "    # No of examples\n",
    "    m = X.shape[0]\n",
    "    # Store dist of mth eg wrt each centroid k\n",
    "    dist = np.zeros((m,K))\n",
    "    for i in range(K):\n",
    "        # D of ith centroid wrt each eg\n",
    "        D = X - initial_centroids[i,:]\n",
    "        # Calculate Sq. Dist and sum across axis 1\n",
    "        # Now dist[:,i] contains dist of each eg wrt each ith centroid\n",
    "        dist[:,i]  = np.sum(D ** 2,1)\n",
    "    # idx[i] contains centroid no. assigned to ith eg.\n",
    "    idx = np.argmin(dist,1)\n",
    "    return idx"
   ]
  },
  {
   "cell_type": "code",
   "execution_count": 4,
   "metadata": {},
   "outputs": [
    {
     "name": "stdout",
     "output_type": "stream",
     "text": [
      "[0 2 1]\n"
     ]
    }
   ],
   "source": [
    "# Check function\n",
    "idx = findClosestCentroids(X,initial_centroids)\n",
    "print(idx[:3])"
   ]
  },
  {
   "cell_type": "code",
   "execution_count": 5,
   "metadata": {},
   "outputs": [],
   "source": [
    "def computeCentroids(X, idx, K):\n",
    "    m = X.shape[0]\n",
    "    n = X.shape[1]\n",
    "    # New K centroids\n",
    "    centroids = np.zeros((K, n))\n",
    "    for i in range(K):\n",
    "        # Find index of records containing ith centroid\n",
    "        index = idx == i\n",
    "        # Find mean of all those indexes and calculate new centroid\n",
    "        centroids[i,:] = np.mean(X[index,:],0)\n",
    "    return centroids"
   ]
  },
  {
   "cell_type": "code",
   "execution_count": 31,
   "metadata": {},
   "outputs": [
    {
     "data": {
      "text/plain": [
       "array([[6.84048014, 2.92901826],\n",
       "       [2.44925193, 2.70270675],\n",
       "       [4.92617636, 3.61871494]])"
      ]
     },
     "execution_count": 31,
     "metadata": {},
     "output_type": "execute_result"
    }
   ],
   "source": [
    "# Check Centroids\n",
    "computeCentroids(X,idx,K)"
   ]
  },
  {
   "cell_type": "code",
   "execution_count": 32,
   "metadata": {},
   "outputs": [],
   "source": [
    "def kMeansInitCentroids(X,K):\n",
    "    centroids = np.zeros((K,X.shape[1]))\n",
    "    idx = np.random.randint(0,X.shape[0],K)\n",
    "    for i in range(K):\n",
    "        centroids[i,:] = X[idx[i],:]\n",
    "    return centroids"
   ]
  },
  {
   "cell_type": "code",
   "execution_count": 33,
   "metadata": {},
   "outputs": [],
   "source": [
    "# Randomly initialize Centroids\n",
    "K = 3\n",
    "max_iters = 100\n",
    "initial_centroids = kMeansInitCentroids(X,K)"
   ]
  },
  {
   "cell_type": "code",
   "execution_count": 34,
   "metadata": {},
   "outputs": [],
   "source": [
    "def runkMeans(X,initial_centroids,max_iters):\n",
    "    m = X.shape[0]\n",
    "    n = X.shape[1]\n",
    "    K = initial_centroids.shape[0]\n",
    "    centroids = initial_centroids\n",
    "    idx = np.zeros((m,1))\n",
    "    for i in range(max_iters):\n",
    "        idx = findClosestCentroids(X,centroids)\n",
    "        centroids = computeCentroids(X, idx, K)\n",
    "    return idx"
   ]
  },
  {
   "cell_type": "code",
   "execution_count": 35,
   "metadata": {},
   "outputs": [],
   "source": [
    "# Run Kmeans\n",
    "max_iters = 100\n",
    "idx = runkMeans(X, initial_centroids, max_iters)"
   ]
  },
  {
   "cell_type": "code",
   "execution_count": 36,
   "metadata": {},
   "outputs": [
    {
     "data": {
      "text/plain": [
       "<matplotlib.legend.Legend at 0x28dbd88b550>"
      ]
     },
     "execution_count": 36,
     "metadata": {},
     "output_type": "execute_result"
    },
    {
     "data": {
      "image/png": "[encoded data removed]",
      "text/plain": [
       "<Figure size 432x288 with 1 Axes>"
      ]
     },
     "metadata": {
      "needs_background": "light"
     },
     "output_type": "display_data"
    }
   ],
   "source": [
    "# Visualize 3 Clusters\n",
    "k1 = X[idx==0,:]\n",
    "k2 = X[idx==1,:]\n",
    "k3 = X[idx==2,:]\n",
    "plt.scatter(k1[:,0],k1[:,1],c='r',label=\"Cluster 1\")\n",
    "plt.scatter(k2[:,0],k2[:,1],c='g',label=\"Cluster 2\")\n",
    "plt.scatter(k3[:,0],k3[:,1],c='b',label=\"Cluster 3\")\n",
    "plt.legend()"
   ]
  },
  {
   "cell_type": "code",
   "execution_count": 51,
   "metadata": {},
   "outputs": [
    {
     "data": {
      "text/plain": [
       "(16384, 3)"
      ]
     },
     "execution_count": 51,
     "metadata": {},
     "output_type": "execute_result"
    }
   ],
   "source": [
    "df = loadmat('bird_small.mat')\n",
    "A = df['A']\n",
    "# Divide by 255\n",
    "A = A/255\n",
    "X = np.reshape(A, (A.shape[0] * A.shape[1],3))\n",
    "K = 3\n",
    "max_iters = 100\n",
    "initial_centroids = initializeCentroids(X,K)\n"
   ]
  },
  {
   "cell_type": "code",
   "execution_count": null,
   "metadata": {},
   "outputs": [],
   "source": []
  }
 ],
 "metadata": {
  "kernelspec": {
   "display_name": "Python 3",
   "language": "python",
   "name": "python3"
  },
  "language_info": {
   "codemirror_mode": {
    "name": "ipython",
    "version": 3
   },
   "file_extension": ".py",
   "mimetype": "text/x-python",
   "name": "python",
   "nbconvert_exporter": "python",
   "pygments_lexer": "ipython3",
   "version": "3.7.3"
  }
 },
 "nbformat": 4,
 "nbformat_minor": 2
}

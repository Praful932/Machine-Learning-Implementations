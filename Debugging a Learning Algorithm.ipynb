{
 "cells": [
  {
   "cell_type": "code",
   "execution_count": 1,
   "metadata": {},
   "outputs": [],
   "source": [
    "import pandas as pd\n",
    "import matplotlib.pyplot as plt\n",
    "import numpy as np\n",
    "from scipy.io import loadmat\n",
    "import scipy.optimize as opt\n",
    "#fmin_cg to train linear reg"
   ]
  },
  {
   "cell_type": "code",
   "execution_count": 2,
   "metadata": {},
   "outputs": [],
   "source": [
    "df = loadmat(\"ex5data1.mat\")"
   ]
  },
  {
   "cell_type": "code",
   "execution_count": 3,
   "metadata": {},
   "outputs": [],
   "source": [
    "# Training set\n",
    "X = df['X']\n",
    "y = df['y']\n",
    "# Cross Validation Set\n",
    "Xtest = df['Xtest']\n",
    "ytest = df['ytest']\n",
    "# Test Set\n",
    "Xval = df['Xval']\n",
    "yval = df['yval']"
   ]
  },
  {
   "cell_type": "code",
   "execution_count": 4,
   "metadata": {},
   "outputs": [
    {
     "data": {
      "text/plain": [
       "Text(0, 0.5, 'Water flowing out of the dam(y)')"
      ]
     },
     "execution_count": 4,
     "metadata": {},
     "output_type": "execute_result"
    },
    {
     "data": {
      "image/png": "[encoded data removed]",
      "text/plain": [
       "<Figure size 432x288 with 1 Axes>"
      ]
     },
     "metadata": {
      "needs_background": "light"
     },
     "output_type": "display_data"
    }
   ],
   "source": [
    "# Plot training data\n",
    "m = X.shape[0]\n",
    "plt.scatter(X,y)\n",
    "plt.xlabel(\"Change in Water Level(x)\")\n",
    "plt.ylabel(\"Water flowing out of the dam(y)\")"
   ]
  },
  {
   "cell_type": "code",
   "execution_count": 5,
   "metadata": {},
   "outputs": [],
   "source": [
    "# Cost Function\n",
    "def LinearRegCostFunction(theta,X, y,lmbda):\n",
    "    m = len(y)\n",
    "    J = 0\n",
    "    hx = X @ theta\n",
    "    tosum = (hx -y) ** 2\n",
    "    reg = (lmbda/(2*m)) * sum(theta[1:] ** 2)\n",
    "    J = (1/(2*m) * sum(tosum)) + reg\n",
    "    return J"
   ]
  },
  {
   "cell_type": "code",
   "execution_count": 6,
   "metadata": {},
   "outputs": [],
   "source": [
    "# Gradient for fmincg\n",
    "def gradf(theta,X,y,lmbda):\n",
    "    m = len(y)\n",
    "    grad = np.zeros((theta.shape))\n",
    "    hx = X @ theta\n",
    "    reg = (lmbda/m) * theta\n",
    "    grad = (1/m) * (X.T @ (hx - y))\n",
    "    # Since we dont regularize theta0\n",
    "    reg[0] = 0\n",
    "    return grad + reg"
   ]
  },
  {
   "cell_type": "code",
   "execution_count": 7,
   "metadata": {},
   "outputs": [
    {
     "name": "stdout",
     "output_type": "stream",
     "text": [
      "[[-15.30301567]\n",
      " [598.25074417]]\n"
     ]
    }
   ],
   "source": [
    "# Check grad\n",
    "theta = np.ones((2,1))\n",
    "checkx = np.hstack((np.ones((m,1)), X))\n",
    "grad = gradf(theta,checkx, y, 1)\n",
    "print(grad)"
   ]
  },
  {
   "cell_type": "code",
   "execution_count": 8,
   "metadata": {},
   "outputs": [],
   "source": [
    "# Train Linear Regression\n",
    "def TrainLinearReg(X,y,lmbda):\n",
    "    n = X.shape[1]\n",
    "#     print(n)\n",
    "    theta = np.zeros((n,1))\n",
    "    # Optimize using fmincg\n",
    "    theta = opt.fmin_cg(maxiter = 50, f = LinearRegCostFunction, x0 = theta,fprime = gradf,\n",
    "                            args = (X,y.flatten(),lmbda),disp=False)[:,np.newaxis]\n",
    "    return theta"
   ]
  },
  {
   "cell_type": "code",
   "execution_count": 9,
   "metadata": {},
   "outputs": [],
   "source": [
    "lmbda = 0\n",
    "theta_opt = TrainLinearReg(np.hstack((np.ones((m,1)),X)),y,lmbda)\n",
    "# Theta dim error g0,g1"
   ]
  },
  {
   "cell_type": "code",
   "execution_count": 10,
   "metadata": {},
   "outputs": [
    {
     "data": {
      "text/plain": [
       "Text(0, 0.5, 'Water flowing out of the dam(y)')"
      ]
     },
     "execution_count": 10,
     "metadata": {},
     "output_type": "execute_result"
    },
    {
     "data": {
      "image/png": "[encoded data removed]",
      "text/plain": [
       "<Figure size 432x288 with 1 Axes>"
      ]
     },
     "metadata": {
      "needs_background": "light"
     },
     "output_type": "display_data"
    }
   ],
   "source": [
    "# Plot Linear Regression\n",
    "plt.scatter(X,y)\n",
    "plt.plot(X, np.hstack((np.ones((m,1)), X)) @ theta_opt)\n",
    "plt.xlabel(\"Change in Water Level(x)\")\n",
    "plt.ylabel(\"Water flowing out of the dam(y)\")"
   ]
  },
  {
   "cell_type": "code",
   "execution_count": 11,
   "metadata": {},
   "outputs": [],
   "source": [
    "# Learning Curve\n",
    "# Calculate Training Set Error and Validation Error\n",
    "def LearningCurve(X,y, Xval, yval, lmbda):\n",
    "    m = X.shape[0]\n",
    "    n = X.shape[1]\n",
    "    error_train = np.zeros((m,1))\n",
    "    error_val = np.zeros((m,1))\n",
    "    theta = np.zeros((n,1))\n",
    "    for i in range(m):\n",
    "        theta = opt.fmin_cg(maxiter = 50, f = LinearRegCostFunction, x0 = theta,fprime = gradf,\n",
    "                        args = (X[:i+1,:],y[:i+1].flatten(),lmbda),disp=False)[:,np.newaxis]\n",
    "        # Vary train error only bcos the model is trained on this\n",
    "        error_train[i] = LinearRegCostFunction(theta,X[:i+1,:],y[:i+1],0)\n",
    "        error_val[i] = LinearRegCostFunction(theta,Xval,yval,0)\n",
    "    return error_train, error_val"
   ]
  },
  {
   "cell_type": "code",
   "execution_count": 12,
   "metadata": {},
   "outputs": [
    {
     "name": "stdout",
     "output_type": "stream",
     "text": [
      "Training Error : [[3.94430453e-31]\n",
      " [4.93038066e-31]\n",
      " [3.28659505e+00]\n",
      " [2.84267769e+00]\n",
      " [1.31540488e+01]\n",
      " [1.94439625e+01]\n",
      " [2.00985217e+01]\n",
      " [1.81728587e+01]\n",
      " [2.26094054e+01]\n",
      " [2.32614616e+01]\n",
      " [2.43172496e+01]\n",
      " [2.23739065e+01]]\n",
      "\n",
      " Validation Error [[205.12109575]\n",
      " [110.30036611]\n",
      " [ 45.01023138]\n",
      " [ 48.36890479]\n",
      " [ 35.8651657 ]\n",
      " [ 33.8299616 ]\n",
      " [ 31.9709858 ]\n",
      " [ 30.86244632]\n",
      " [ 31.13599796]\n",
      " [ 28.93620747]\n",
      " [ 29.55143162]\n",
      " [ 29.43381813]]\n"
     ]
    }
   ],
   "source": [
    "lmbda = 0\n",
    "mval = Xval.shape[0]\n",
    "error_train, error_val = LearningCurve(np.hstack((np.ones((m,1)),X)), y, np.hstack((np.ones((mval,1)),Xval)), yval, lmbda,)\n",
    "print(f\"Training Error : {error_train}\\n\\n Validation Error {error_val}\")\n",
    "# Note : CV Error slowly decreases"
   ]
  },
  {
   "cell_type": "code",
   "execution_count": 13,
   "metadata": {},
   "outputs": [
    {
     "data": {
      "text/plain": [
       "<matplotlib.legend.Legend at 0x20dfa7839e8>"
      ]
     },
     "execution_count": 13,
     "metadata": {},
     "output_type": "execute_result"
    },
    {
     "data": {
      "image/png": "[encoded data removed]",
      "text/plain": [
       "<Figure size 432x288 with 1 Axes>"
      ]
     },
     "metadata": {
      "needs_background": "light"
     },
     "output_type": "display_data"
    }
   ],
   "source": [
    "plt.plot(error_train,label = \"Training Error\")\n",
    "plt.plot(error_val, label = \"Validation Error\")\n",
    "plt.xlabel(\"Number of Training Examples\")\n",
    "plt.ylabel(\"Error\")\n",
    "plt.legend()\n",
    "# High Bias - Underfitting(More Data will not help)"
   ]
  },
  {
   "cell_type": "code",
   "execution_count": 14,
   "metadata": {},
   "outputs": [],
   "source": [
    "# Make Polynomial Features of 1D Vector\n",
    "def PolyFeatures(X, p):\n",
    "    X_poly = np.zeros((np.size(X),p))\n",
    "    for i in range(p):\n",
    "        X_poly[:,i] = (X ** (i+1)).flatten()\n",
    "    return X_poly"
   ]
  },
  {
   "cell_type": "code",
   "execution_count": 15,
   "metadata": {},
   "outputs": [],
   "source": [
    "def FeatureNormalize(X):\n",
    "    # (value - mean)/std\n",
    "    mu = np.mean(X, axis = 0)\n",
    "    X_norm = X - mu\n",
    "    \n",
    "    # ddof paramater for dividing by N-1 instead of N\n",
    "    sigma = np.std(X_norm, axis = 0, ddof=1)\n",
    "    X_norm /= sigma\n",
    "    return X_norm, mu, sigma"
   ]
  },
  {
   "cell_type": "code",
   "execution_count": 16,
   "metadata": {},
   "outputs": [],
   "source": [
    "def PlotFit(min_x, max_x, mu,sigma,theta,p):\n",
    "    # -1 dim numpy will figure out\n",
    "    # Create new Xs to plot curve\n",
    "    x = np.arange(min_x - 40, max_x + 40, 0.05).reshape(-1,1)\n",
    "    # Translate and normalize given xs\n",
    "    X_poly = PolyFeatures(x,p)\n",
    "    X_poly -= mu\n",
    "    X_poly /= sigma\n",
    "    X_poly = np.hstack((np.ones((X_poly.shape[0],1)), X_poly))\n",
    "    # plot x and calculated Y\n",
    "    plt.plot(x, X_poly @ theta)"
   ]
  },
  {
   "cell_type": "code",
   "execution_count": 17,
   "metadata": {},
   "outputs": [],
   "source": [
    "p = 8\n",
    "\n",
    "X_poly = PolyFeatures(X, p)\n",
    "X_poly, mu, sigma = FeatureNormalize(X_poly)\n",
    "X_poly = np.hstack((np.ones((m,1)),X_poly))\n",
    "\n",
    "X_poly_test = PolyFeatures(Xtest, p)\n",
    "X_poly_test = X_poly_test - mu\n",
    "X_poly_test /= sigma\n",
    "X_poly_test = np.hstack((np.ones((Xtest.shape[0],1)),X_poly_test))\n",
    "\n",
    "X_poly_val = PolyFeatures(Xval, p)\n",
    "X_poly_val = X_poly_val - mu\n",
    "X_poly_val /= sigma\n",
    "X_poly_val = np.hstack((np.ones((Xval.shape[0],1)),X_poly_val))"
   ]
  },
  {
   "cell_type": "code",
   "execution_count": 18,
   "metadata": {},
   "outputs": [],
   "source": [
    "# Learning Curve for Polynomial Regression\n",
    "lmbda = 0.2\n",
    "theta_opt = TrainLinearReg(X_poly,y,lmbda)"
   ]
  },
  {
   "cell_type": "code",
   "execution_count": 19,
   "metadata": {},
   "outputs": [
    {
     "data": {
      "text/plain": [
       "Text(0.5, 1.0, 'Polynomial Regression Fir (lambda=0.2)')"
      ]
     },
     "execution_count": 19,
     "metadata": {},
     "output_type": "execute_result"
    },
    {
     "data": {
      "image/png": "[encoded data removed]",
      "text/plain": [
       "<Figure size 432x288 with 1 Axes>"
      ]
     },
     "metadata": {
      "needs_background": "light"
     },
     "output_type": "display_data"
    }
   ],
   "source": [
    "plt.scatter(X,y)\n",
    "# Plot new Polynomial Curve\n",
    "PlotFit(np.min(X_poly), np.max(X_poly), mu, sigma, theta_opt, p)\n",
    "plt.xlabel(\"Change in Water Level(x)\")\n",
    "plt.ylabel(\"Water flowing out of the dam(y)\")\n",
    "plt.title(f\"Polynomial Regression Fir (lambda={lmbda})\")"
   ]
  },
  {
   "cell_type": "code",
   "execution_count": 20,
   "metadata": {},
   "outputs": [
    {
     "name": "stdout",
     "output_type": "stream",
     "text": [
      "Training Error\n",
      "[[8.87468518e-31]\n",
      " [7.43158125e-03]\n",
      " [1.58508498e-01]\n",
      " [8.82962025e-02]\n",
      " [7.07051785e-02]\n",
      " [8.08790982e-02]\n",
      " [4.07836059e-01]\n",
      " [4.02010644e-01]\n",
      " [6.28777665e-01]\n",
      " [5.68150916e-01]\n",
      " [5.20779139e-01]\n",
      " [6.99725620e-01]]\n",
      "Validation Error\n",
      "[[138.84677698]\n",
      " [143.37745712]\n",
      " [  9.28450083]\n",
      " [  9.89507226]\n",
      " [  9.93136107]\n",
      " [ 11.6044691 ]\n",
      " [  5.62835107]\n",
      " [  4.86790426]\n",
      " [  5.36032948]\n",
      " [  5.12059797]\n",
      " [  5.18046517]\n",
      " [  5.3860116 ]]\n"
     ]
    }
   ],
   "source": [
    "# Calculate New Errors with Poly Features\n",
    "error_train,error_val = LearningCurve(X_poly, y, X_poly_val,yval,lmbda)\n",
    "print(f\"Training Error\\n{error_train}\\nValidation Error\\n{error_val}\")"
   ]
  },
  {
   "cell_type": "code",
   "execution_count": 21,
   "metadata": {},
   "outputs": [
    {
     "data": {
      "text/plain": [
       "<matplotlib.legend.Legend at 0x20dfb828eb8>"
      ]
     },
     "execution_count": 21,
     "metadata": {},
     "output_type": "execute_result"
    },
    {
     "data": {
      "image/png": "[encoded data removed]",
      "text/plain": [
       "<Figure size 432x288 with 1 Axes>"
      ]
     },
     "metadata": {
      "needs_background": "light"
     },
     "output_type": "display_data"
    }
   ],
   "source": [
    "# Plot Learning Curve\n",
    "plt.plot(error_train, label = \"Training Error\")\n",
    "plt.plot(error_val, label = \"Cross Validation Error\")\n",
    "plt.xlabel(\"No. of Training Examples\")\n",
    "plt.ylabel(\"Error\")\n",
    "plt.title(f\"Polynomial Regression Learning Curve(lambda={lmbda})\")\n",
    "plt.legend()"
   ]
  },
  {
   "cell_type": "code",
   "execution_count": 22,
   "metadata": {},
   "outputs": [],
   "source": [
    "# Validation for selecting lambda\n",
    "def ValidationCurve(X_poly,y, X_poly_val, yval):\n",
    "    lmbda = [0,0.001,0.003,0.01,0.03,0.1,0.3,1,3,10]\n",
    "    error_train = np.zeros((len(lmbda),1))\n",
    "    error_val = np.zeros((len(lmbda),1))\n",
    "    for i in range(len(lmbda)):\n",
    "        theta_opt = TrainLinearReg(X_poly,y,lmbda[i])\n",
    "        # While training theta was already regularized with lambda\n",
    "        error_train[i] = LinearRegCostFunction(theta_opt,X_poly,y,0)\n",
    "        error_val[i] = LinearRegCostFunction(theta_opt,X_poly_val,yval,0)\n",
    "    return error_train,error_val,lmbda"
   ]
  },
  {
   "cell_type": "code",
   "execution_count": 27,
   "metadata": {},
   "outputs": [
    {
     "data": {
      "text/plain": [
       "Text(0.5, 1.0, 'Validation Curve')"
      ]
     },
     "execution_count": 27,
     "metadata": {},
     "output_type": "execute_result"
    },
    {
     "data": {
      "image/png": "[encoded data removed]",
      "text/plain": [
       "<Figure size 432x288 with 1 Axes>"
      ]
     },
     "metadata": {
      "needs_background": "light"
     },
     "output_type": "display_data"
    }
   ],
   "source": [
    "error_train, error_val, lmbda = ValidationCurve(X_poly,y, X_poly_val, yval)\n",
    "plt.plot(lmbda,error_train,label=\"Training Error\")\n",
    "plt.plot(lmbda,error_val,label=\"Cross Validation Error\")\n",
    "plt.xlabel(\"Lambda\")\n",
    "plt.ylabel(\"Error\")\n",
    "plt.title(\"Validation Curve\")"
   ]
  },
  {
   "cell_type": "code",
   "execution_count": null,
   "metadata": {},
   "outputs": [],
   "source": []
  }
 ],
 "metadata": {
  "kernelspec": {
   "display_name": "Python 3",
   "language": "python",
   "name": "python3"
  },
  "language_info": {
   "codemirror_mode": {
    "name": "ipython",
    "version": 3
   },
   "file_extension": ".py",
   "mimetype": "text/x-python",
   "name": "python",
   "nbconvert_exporter": "python",
   "pygments_lexer": "ipython3",
   "version": "3.7.3"
  }
 },
 "nbformat": 4,
 "nbformat_minor": 2
}
